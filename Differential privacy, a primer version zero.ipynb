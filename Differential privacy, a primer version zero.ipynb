{
 "cells": [
  {
   "cell_type": "markdown",
   "metadata": {
    "collapsed": true
   },
   "source": [
    "# Open data, private data, big data, small data\n",
    "\n",
    "_The technological innovation of differential privacy allows sharing of personal data with privacy guarantees—but implementing differential privacy should makes us think about what we want to get from an open dataset._ \n",
    "\n",
    "By Tim McGovern\n"
   ]
  },
  {
   "cell_type": "markdown",
   "metadata": {},
   "source": [
    "Apple made headlines (and caused some headscratching) with their announcement this summer that that they’d be widely implementing a technique called “differential privacy” to ensure the privacy of personal data they were gathering—while still keeping it useful to their data scientists and developers. In this post, I’ll give an introduction to differential privacy and tease out some of its implications, particularly for open data advocates. \n",
    "\n",
    "### “Have you ever sold drugs?”\n",
    "\n",
    "Imagine you’re a university researcher, trying to figure out the prevalence of drug dealing on your campus. You want to ensure the privacy of your respondents’ answers—they will speak more freely if guaranteed absolute privacy. And you and they both will be protected from prosecution, of course! \n",
    "\n",
    "Here’s a procedure you could implement: each respondent is given a survey, as well as a coin to flip. When they get to the question about illegal drug dealing, they’re instructed to flip the coin: if it comes up heads, they answer correctly, if it comes up tails, then they flip the coin again and answer “yes” if it comes up heads and “no” if it comes up tails, without any regard for what the truth of their behavor is. \n"
   ]
  },
  {
   "cell_type": "markdown",
   "metadata": {},
   "source": [
    "[insert flow chart] \n",
    "\n",
    "[insert model]\n"
   ]
  },
  {
   "cell_type": "code",
   "execution_count": 1,
   "metadata": {
    "collapsed": true
   },
   "outputs": [],
   "source": [
    "import random\n",
    "import matplotlib.pyplot as plt \n",
    "import matplotlib as mpl\n",
    "from mpl_toolkits.mplot3d import Axes3D\n",
    "from matplotlib import cm\n",
    "from matplotlib.ticker import LinearLocator, FormatStrFormatter\n",
    "import numpy as np \n",
    "%matplotlib inline\n",
    "import csv"
   ]
  },
  {
   "cell_type": "code",
   "execution_count": 103,
   "metadata": {
    "collapsed": false
   },
   "outputs": [],
   "source": [
    "'''Let's define ground truth as 25% of respondents dealing drugs, \n",
    "and we'll keep it super-simple: respondents 0-124 have, and 125-499 have not.''' \n",
    "groundtruth = {}\n",
    "for n in range(0,125):\n",
    "    groundtruth[n] = 1\n",
    "for n in range(125,500):\n",
    "    groundtruth[n] = 0"
   ]
  },
  {
   "cell_type": "code",
   "execution_count": 104,
   "metadata": {
    "collapsed": false
   },
   "outputs": [],
   "source": [
    "#Our survey procedure model will return either an accurate or a random answer.\n",
    "\n",
    "def survey(n,truth):\n",
    "    firstflip = random.randint(0,1)\n",
    "    if firstflip:\n",
    "        return(truth)\n",
    "    else:\n",
    "        return(random.randint(0,1))\n"
   ]
  },
  {
   "cell_type": "code",
   "execution_count": 105,
   "metadata": {
    "collapsed": false
   },
   "outputs": [
    {
     "data": {
      "text/plain": [
       "200"
      ]
     },
     "execution_count": 105,
     "metadata": {},
     "output_type": "execute_result"
    }
   ],
   "source": [
    "#Let's run the survey on our sample population:\n",
    "\n",
    "dealers = 0\n",
    "for student in groundtruth:\n",
    "    dealers += survey(student,groundtruth[student])\n",
    "dealers"
   ]
  },
  {
   "cell_type": "markdown",
   "metadata": {},
   "source": [
    "## What does it mean? \n",
    "\n",
    "We now have six categories of answers: \n",
    "\n",
    "<table>\n",
    "    <tr>\n",
    "        <td> </td>\n",
    "        <td>*Deal* </td>\n",
    "        <td> *Don't deal* </td>\n",
    "    </tr>\n",
    "    <tr>\n",
    "        <td>Told the truth</td>\n",
    "        <td>Truthfully said  they deal: **YES** (~50% of the 125 dealers)</td>\n",
    "        <td>Truthfully said they don't deal: **NO**  (~50% of the 375 non-dealers)</td>\n",
    "    </tr>\n",
    "    <tr>\n",
    "        <td>Flipped coin for answer, got heads, *adds up to 25% of total sample*</td>\n",
    "        <td>**YES** (~25% of 125 dealers)</td>\n",
    "        <td>**YES** (~25% of 375 non-dealers)</td>\n",
    "    </tr>\n",
    "    <tr>\n",
    "        <td>Flipped coin for answer, got tails, *adds up to 25% of total sample* </td>\n",
    "        <td>**NO** (~25% of 125 dealers)</td>\n",
    "        <td>**NO** (~25% of 375 non-dealers)</td>\n",
    "    </tr>\n",
    "<table>    \n",
    "But let's put ourselves in the shoes of the university researcher—we don't know the number of dealers! \n",
    "\n",
    "Math to the rescue. Let's simplify just a little bit and only worry about our 'yes' survey results. \n",
    "\n",
    ">Dealers who gave a truth-based answer of *YES* (`realdealers * 0.5`) \n",
    "\n",
    ">Dealers and non-dealers who gave a coin-flip-based answer of *YES* (500 * 0.25`)\n",
    "\n",
    "Simplifying: \n",
    "\n",
    "`realdealers * 0.5 + (500 * 0.25) = dealers\n",
    "realdealers * 0.5 + 125 = dealers\n",
    "realdealers * 0.5 = dealers - 125\n",
    "realdealers = (dealers - 125) * 2`"
   ]
  },
  {
   "cell_type": "code",
   "execution_count": 106,
   "metadata": {
    "collapsed": false
   },
   "outputs": [
    {
     "data": {
      "text/plain": [
       "150"
      ]
     },
     "execution_count": 106,
     "metadata": {},
     "output_type": "execute_result"
    }
   ],
   "source": [
    "realdealers = (dealers - 125) * 2\n",
    "realdealers"
   ]
  },
  {
   "cell_type": "markdown",
   "metadata": {},
   "source": [
    "## But wait, there's more!\n",
    "\n",
    "Working with differentially-private data can in fact encourage _better_ data science. With the addition of random 'noise,' you are forced to reckon with the randomness and non-representation of the real world—your awareness of the fact that your data is not 100% certain is 'built in'. "
   ]
  },
  {
   "cell_type": "markdown",
   "metadata": {},
   "source": [
    "## We can look at the differentially-private data in probabilistic terms\n",
    "\n",
    "What happens if we run our sample 10,000 times? "
   ]
  },
  {
   "cell_type": "code",
   "execution_count": 108,
   "metadata": {
    "collapsed": false
   },
   "outputs": [],
   "source": [
    "#Starting from the same groundtruth data, we'll run the exact same survey 10,000 times. \n",
    "#Thank God these are virtual, not real, college students. \n",
    "\n",
    "\n",
    "aggregateresults = []\n",
    "for n in range(0,10000):\n",
    "    dealers = 0\n",
    "    for student in groundtruth:\n",
    "        dealers += survey(student,groundtruth[student])\n",
    "    realdealers = (dealers - 125) * 2 #NOTE: we're multiplying an integer by 2, our RESOLUTION is 2\n",
    "    aggregateresults.append(int(realdealers))\n",
    "   "
   ]
  },
  {
   "cell_type": "code",
   "execution_count": 125,
   "metadata": {
    "collapsed": false
   },
   "outputs": [],
   "source": [
    "# This just makes graphing it a little easier, by taking the empty slots out of the bins\n",
    "graphaggres = [res/2 for res in aggregateresults] "
   ]
  },
  {
   "cell_type": "code",
   "execution_count": 110,
   "metadata": {
    "collapsed": false
   },
   "outputs": [
    {
     "name": "stderr",
     "output_type": "stream",
     "text": [
      "/Users/tmcgovern/Anaconda/anaconda/envs/py3k/lib/python3.4/site-packages/numpy/lib/function_base.py:564: VisibleDeprecationWarning: using a non-integer number instead of an integer will result in an error in the future\n",
      "  n = np.zeros(bins, ntype)\n",
      "/Users/tmcgovern/Anaconda/anaconda/envs/py3k/lib/python3.4/site-packages/numpy/lib/function_base.py:600: VisibleDeprecationWarning: using a non-integer number instead of an integer will result in an error in the future\n",
      "  n += np.bincount(indices, weights=tmp_w, minlength=bins).astype(ntype)\n"
     ]
    },
    {
     "data": {
      "image/png": "[encoded data removed]",
      "text/plain": [
       "<matplotlib.figure.Figure at 0x1121484a8>"
      ]
     },
     "metadata": {},
     "output_type": "display_data"
    }
   ],
   "source": [
    "bincount = max(graphaggres) - min(graphaggres)\n",
    "plt.hist(graphaggres, bins=bincount, histtype='stepfilled')\n",
    "plt.title(\"Corrected results\")\n",
    "plt.xlabel(\"Value\")\n",
    "plt.ylabel(\"Frequency\");\n"
   ]
  },
  {
   "cell_type": "code",
   "execution_count": 111,
   "metadata": {
    "collapsed": false
   },
   "outputs": [
    {
     "data": {
      "text/plain": [
       "125.09139999999999"
      ]
     },
     "execution_count": 111,
     "metadata": {},
     "output_type": "execute_result"
    }
   ],
   "source": [
    "np.mean(aggregateresults)"
   ]
  },
  {
   "cell_type": "code",
   "execution_count": 112,
   "metadata": {
    "collapsed": false
   },
   "outputs": [
    {
     "data": {
      "text/plain": [
       "126.0"
      ]
     },
     "execution_count": 112,
     "metadata": {},
     "output_type": "execute_result"
    }
   ],
   "source": [
    "np.median(aggregateresults)"
   ]
  },
  {
   "cell_type": "markdown",
   "metadata": {},
   "source": [
    "Hopefully, I've convinced you that this method of data gathering produces a number that's somehow distributed around the real number. "
   ]
  },
  {
   "cell_type": "markdown",
   "metadata": {},
   "source": [
    "# How does the noise-added version compare to just sampling 50%?\n",
    "\n",
    "By flipping a coin we took a sample of about 50% of our data, and then added noise. How does the version with the noise added (then subtracted) compare to just taking a 50% sample? "
   ]
  },
  {
   "cell_type": "code",
   "execution_count": 118,
   "metadata": {
    "collapsed": false
   },
   "outputs": [],
   "source": [
    "#So we'll tweak our survey a bit, so that the first draw determines whether you tell the truth or just don't respond\n",
    "aggsurv2 = []\n",
    "for n in range(0,10000):\n",
    "    surveydata2 = 0\n",
    "    sample = random.sample(list(groundtruth), 250)\n",
    "    for n in sample:\n",
    "        surveydata2 += groundtruth[n]\n",
    "    aggsurv2.append(int(surveydata2))\n"
   ]
  },
  {
   "cell_type": "code",
   "execution_count": 124,
   "metadata": {
    "collapsed": false
   },
   "outputs": [
    {
     "name": "stderr",
     "output_type": "stream",
     "text": [
      "/Users/tmcgovern/Anaconda/anaconda/envs/py3k/lib/python3.4/site-packages/numpy/lib/function_base.py:564: VisibleDeprecationWarning: using a non-integer number instead of an integer will result in an error in the future\n",
      "  n = np.zeros(bins, ntype)\n",
      "/Users/tmcgovern/Anaconda/anaconda/envs/py3k/lib/python3.4/site-packages/numpy/lib/function_base.py:600: VisibleDeprecationWarning: using a non-integer number instead of an integer will result in an error in the future\n",
      "  n += np.bincount(indices, weights=tmp_w, minlength=bins).astype(ntype)\n"
     ]
    },
    {
     "data": {
      "image/png": "[encoded data removed]",
      "text/plain": [
       "<matplotlib.figure.Figure at 0x11169ae10>"
      ]
     },
     "metadata": {},
     "output_type": "display_data"
    }
   ],
   "source": [
    "bincount = max(graphaggres) - min(graphaggres)\n",
    "bincount2 = (max(aggsurv2) - min(aggsurv2))/2\n",
    "plt.hist(graphaggres, bins=bincount, histtype='stepfilled',color = \"blue\", alpha=0.5)\n",
    "plt.hist(aggsurv2, bins=bincount, histtype='stepfilled',color = \"red\", alpha=0.5)\n",
    "plt.title(\"Corrected results\")\n",
    "plt.xlabel(\"Value\")\n",
    "plt.ylabel(\"Frequency\");\n"
   ]
  },
  {
   "cell_type": "markdown",
   "metadata": {},
   "source": [
    "## We want to put a _confidence interval_ around this number. \n",
    "\n",
    "What is a confidence interval? \n",
    "\n",
    "Because our researchers don't have access to ground-truth data, we want to figure out: \n",
    "Given a particular result `realdealers` from just one run of the experiment, how likely is it that `groundtruth` is something else? We express confidence intervals in terms of percentages and ranges: Given result X, we are P% sure that the result is between W and Y.\" This means that given our data-gathering method, if `groundtruth` is between W and Y, we get `realdealers` as a result P% of the times we run this experiment. \n",
    "\n",
    "We know that `realdealers` is a probabilistic function normally distributed around `groundtruth` for any particular value of `realdealers` and `groundtruth`, and there are statistical equations that have done this math for us, but because I'm using computers to do this (and, umm, I never learned statistics) I'm going to make the computer do this all by means of simulations. I.e., The loooooooong way. \n",
    "\n",
    "Onward. "
   ]
  },
  {
   "cell_type": "markdown",
   "metadata": {},
   "source": [
    "### The problem\n",
    "\n",
    "For a given number `realdealers` and percentage confident `conf` we want to know the range around it for which other groundtruths produce a `realdealers` result `conf` percent of the time or greater. So we can pre-calculate 10,000 `realdealers` results for _every_ possible `groundtruth`. (Because this is pre-calculable, that's why we could lean on wiser statisticians than have come before.)"
   ]
  },
  {
   "cell_type": "code",
   "execution_count": null,
   "metadata": {
    "collapsed": false
   },
   "outputs": [],
   "source": [
    "\n",
    "def simulation(dealersseq):\n",
    "    groundtruth = {}\n",
    "    for n in range(0,dealersseq):\n",
    "        groundtruth[n] = 1\n",
    "    for n in range(dealersseq,500):\n",
    "        groundtruth[n] = 0\n",
    "        \n",
    "    aggregateresults = []\n",
    "    for n in range(0,10000):\n",
    "        surveydata = []\n",
    "        for student in groundtruth:\n",
    "            surveydata.append(survey(student,groundtruth[student]))\n",
    "        dealers = 0\n",
    "        for n in surveydata:\n",
    "            if n[1] == 1:\n",
    "                dealers += 1\n",
    "        realdealers = (dealers - 125) * 2\n",
    "        aggregateresults.append(realdealers)\n",
    "    return(aggregateresults)"
   ]
  },
  {
   "cell_type": "code",
   "execution_count": null,
   "metadata": {
    "collapsed": false
   },
   "outputs": [],
   "source": []
  },
  {
   "cell_type": "code",
   "execution_count": null,
   "metadata": {
    "collapsed": true
   },
   "outputs": [],
   "source": [
    "#THIS IS FIVE MILLION RANDOM DRAWINGS. IT TAKES A FEW HOURS. DON'T RE-RUN UNLESS NEEDED -- Commenting out\n",
    "'''output_file = '500times.csv'\n",
    "with open(output_file, 'w', newline='') as filewriter:\n",
    "    for n in range(0,500):\n",
    "        simdata = simulation(n)\n",
    "        for num in range(-500,500):\n",
    "            filewriter.write(str(simdata.count(num)) + ',')\n",
    "        filewriter.write('\\n')\n",
    "        '''"
   ]
  },
  {
   "cell_type": "code",
   "execution_count": null,
   "metadata": {
    "collapsed": false
   },
   "outputs": [],
   "source": [
    "#THIS IS FIVE MILLION RANDOM DRAWINGS. IT TAKES A FEW HOURS. DON'T RE-RUN UNLESS NEEDED -- Commenting out\n",
    "'''output_file = '101_200times.csv'\n",
    "with open(output_file, 'w', newline='') as filewriter:\n",
    "    for n in range(101,200):\n",
    "        filewriter.write(str(simulation(n)))\n",
    "        filewriter.write('\\n')'''"
   ]
  },
  {
   "cell_type": "code",
   "execution_count": 13,
   "metadata": {
    "collapsed": true
   },
   "outputs": [],
   "source": [
    "bigagg = []\n",
    "\n",
    "input_files = [\"50times.csv\", \"51_100times.csv\",\"101_200times.csv\"]\n",
    "for input_file in input_files:\n",
    "    with open(input_file, 'r', newline='') as csv_in_file:\n",
    "        filereader = csv.reader(csv_in_file, delimiter = ',')\n",
    "        for row in filereader:\n",
    "            bigagg.append(row)        "
   ]
  },
  {
   "cell_type": "code",
   "execution_count": 14,
   "metadata": {
    "collapsed": false
   },
   "outputs": [],
   "source": [
    "for row in bigagg:\n",
    "    row[0] = row[0].lstrip('[')\n",
    "    row[-1] = row[-1].rstrip(']')\n",
    "\n",
    "bigagg = [[int(m) for m in row] for row in bigagg]\n"
   ]
  },
  {
   "cell_type": "code",
   "execution_count": 17,
   "metadata": {
    "collapsed": false
   },
   "outputs": [],
   "source": [
    "overallmin = min([min(agg) for agg in bigagg])\n",
    "overallmax = max([max(agg) for agg in bigagg])\n"
   ]
  },
  {
   "cell_type": "code",
   "execution_count": 20,
   "metadata": {
    "collapsed": false
   },
   "outputs": [],
   "source": [
    "reresults = {}\n",
    "for n in range(overallmin, overallmax):\n",
    "    reresults[n] = []\n",
    "    for m in range(0, len(bigagg)):\n",
    "        for p in bigagg[m]:\n",
    "            if p == n:\n",
    "                reresults[n].append(m)\n",
    "        "
   ]
  },
  {
   "cell_type": "code",
   "execution_count": 27,
   "metadata": {
    "collapsed": false
   },
   "outputs": [
    {
     "data": {
      "text/plain": [
       "100.0653205451792"
      ]
     },
     "execution_count": 27,
     "metadata": {},
     "output_type": "execute_result"
    }
   ],
   "source": [
    "np.mean(reresults[100])"
   ]
  },
  {
   "cell_type": "code",
   "execution_count": 41,
   "metadata": {
    "collapsed": false
   },
   "outputs": [],
   "source": [
    "xs = []\n",
    "for n in range(overallmin,overallmax):\n",
    "    if len(reresults[n]):\n",
    "        xs.append(n)\n",
    "        "
   ]
  },
  {
   "cell_type": "code",
   "execution_count": 123,
   "metadata": {
    "collapsed": false
   },
   "outputs": [
    {
     "data": {
      "image/png": "[encoded data removed]",
      "text/plain": [
       "<matplotlib.figure.Figure at 0x10fc3e208>"
      ]
     },
     "metadata": {},
     "output_type": "display_data"
    }
   ],
   "source": [
    "y1 = [np.mean(reresults[n]) for n in xs]\n",
    "y2 = [len(reresults[n]) / 80 for n in xs]\n",
    "y3 = [np.median(reresults[n]) for n in xs]\n",
    "\n",
    "plt.plot(xs, y1, color='blue')\n",
    "plt.plot(xs, y2, color='red')\n",
    "plt.plot(xs, y3, color='green')\n",
    "plt.plot(range(0,(overallmax-50)), range(0,(overallmax-50)), color='brown');\n"
   ]
  },
  {
   "cell_type": "markdown",
   "metadata": {},
   "source": [
    "## What's going on here? \n",
    "\n",
    "Obviously, there's less data to be used at the ends of our range, and so when we get really far out into the wings of the distribution, we're dealing with just one or two times that these results appeared. \n",
    "\n",
    "For a confidence interval, we want to know the range within which 95% of the times we got a given result, it was produced by a groundtruth with the range(conmin, conmax). "
   ]
  },
  {
   "cell_type": "code",
   "execution_count": null,
   "metadata": {
    "collapsed": true
   },
   "outputs": [],
   "source": []
  },
  {
   "cell_type": "code",
   "execution_count": null,
   "metadata": {
    "collapsed": true
   },
   "outputs": [],
   "source": []
  },
  {
   "cell_type": "code",
   "execution_count": null,
   "metadata": {
    "collapsed": true
   },
   "outputs": [],
   "source": []
  },
  {
   "cell_type": "code",
   "execution_count": null,
   "metadata": {
    "collapsed": true
   },
   "outputs": [],
   "source": []
  },
  {
   "cell_type": "code",
   "execution_count": null,
   "metadata": {
    "collapsed": true
   },
   "outputs": [],
   "source": []
  },
  {
   "cell_type": "code",
   "execution_count": null,
   "metadata": {
    "collapsed": true
   },
   "outputs": [],
   "source": []
  },
  {
   "cell_type": "code",
   "execution_count": null,
   "metadata": {
    "collapsed": true
   },
   "outputs": [],
   "source": []
  },
  {
   "cell_type": "code",
   "execution_count": null,
   "metadata": {
    "collapsed": false
   },
   "outputs": [],
   "source": [
    "x = [n for n in range(0,501)]\n",
    "y1 = [np.mean(bigagg[n]) for n in x]\n",
    "#y2 = [np.mode(bigagg[n]) for n in x]\n",
    "y3 = [np.median(bigagg[n]) for n in x]\n",
    "\n",
    "plt.plot(x, y1, color='blue')\n",
    "#plt.plot(x, y2, color='red')\n",
    "plt.plot(x, y3, color='green');"
   ]
  },
  {
   "cell_type": "code",
   "execution_count": null,
   "metadata": {
    "collapsed": false
   },
   "outputs": [],
   "source": [
    "x = [n for n in range(0,501)]\n",
    "y1 = [(np.mean(bigagg[n]) - n) for n in x]\n",
    "\n",
    "#y3 = [(np.median(bigagg[n]) - n) for n in x]\n",
    "\n",
    "plt.plot(x, y1, color='blue')\n",
    "#plt.plot(x, y2, color='red')\n",
    "#plt.plot(x, y3, color='green')"
   ]
  },
  {
   "cell_type": "code",
   "execution_count": null,
   "metadata": {
    "collapsed": false
   },
   "outputs": [],
   "source": [
    "def conint(res,pct):\n",
    "    center = round(np.mean(bigagg[res]))\n",
    "    #total number of groundtruths we want to reach is pct% of the total number of draws we did, i.e. 10,000\n",
    "    tottruths = pct * 10000\n",
    "    #start at the center of our distribution, counting the number of truths that were at that mean\n",
    "    runningtruths = bigagg[res].count(center)\n",
    "    #work up and down simultaneously, counting the number of truths at each of these times\n",
    "        #but if the up-counter hits 500, or the down-counter hits 0, stop. \n",
    "    c = 1\n",
    "    lowerbound = center\n",
    "    upperbound = center\n",
    "    if \n",
    "    while runningtruths < tottruths: #stop when the count gets to tottruths\n",
    "        upperbound = center + c\n",
    "        lowerbound = center - c\n",
    "        if upperbound <= 500:\n",
    "            runningtruths = runningtruths + bigagg[res].count(upperbound)\n",
    "            \n",
    "        if lowerbound >= 0:\n",
    "            runningtruths = runningtruths + bigagg[res].count(lowerbound)\n",
    "            \n",
    "        c += 1\n",
    "    \n",
    "    return(max(lowerbound, 0), center, min(upperbound,500))\n",
    "    "
   ]
  },
  {
   "cell_type": "code",
   "execution_count": null,
   "metadata": {
    "collapsed": false
   },
   "outputs": [],
   "source": [
    "max(bigagg[500])"
   ]
  },
  {
   "cell_type": "code",
   "execution_count": null,
   "metadata": {
    "collapsed": false
   },
   "outputs": [],
   "source": [
    "x = [n for n in range(0,501)]\n",
    "y1 = [conint(n)[0] for n in x]\n",
    "y2 = [conint(n)[1] for n in x]\n",
    "y3 = [conint(n)[2] for n in x]\n",
    "plt.plot(x, y1, color='blue')\n",
    "plt.plot(x, y2, color='red')\n",
    "plt.plot(x, y3, color='green')"
   ]
  },
  {
   "cell_type": "markdown",
   "metadata": {},
   "source": [
    "## Where are we now?\n",
    "# Gah, this all needs to be rewritten.\n",
    "OK, so now we've pre-processed and made a big (500 rows, 1000 columns) table where each row represents a different ground truth (equal to its index), each column represents a potential result from -500 to 500, and the data in the cell is how many times that ground truth produced that calculated survey result. \n",
    "\n",
    "Let's see what it looks like!"
   ]
  },
  {
   "cell_type": "code",
   "execution_count": null,
   "metadata": {
    "collapsed": true
   },
   "outputs": [],
   "source": [
    "input_file = \"500times.csv\"\n",
    "bigagg = []\n",
    "with open(input_file, 'r', newline='') as csv_in_file:\n",
    "    filereader = csv.reader(csv_in_file, delimiter = ',')\n",
    "    for row in filereader:\n",
    "        bigagg.append(row[:-1])"
   ]
  },
  {
   "cell_type": "code",
   "execution_count": null,
   "metadata": {
    "collapsed": false
   },
   "outputs": [],
   "source": [
    "from matplotlib import cm\n",
    "from matplotlib.ticker import LinearLocator, FormatStrFormatter\n",
    "\n",
    "fig = plt.figure(figsize=(16,10))\n",
    "ax = fig.gca(projection='3d')\n",
    "x = [n for n in range(0,1000,2)] #Every other row so we don't graph all the zeroes.\n",
    "y = [n for n in range(0,500)]\n",
    "z = []\n",
    "for row in bigagg:\n",
    "    shortened = []\n",
    "    for n in range(0,1000,2):\n",
    "        shortened.append(row[n])\n",
    "    z.append(shortened)\n",
    "z = [[float(m) for m in n] for n in z]\n",
    "xs = [[m for m in range(len(x))] for n in range(len(y))]\n",
    "ys = [[n for m in range(len(y))] for n in range(len(x))]\n",
    "zs = [[elem for elem in row] for row in z]\n",
    "\n",
    "surf = ax.plot_surface(xs, ys, zs, rstride=1, cstride=1, cmap=cm.coolwarm,\n",
    "                       linewidth=0, antialiased=False)\n",
    "\n",
    "\n",
    "ax.zaxis.set_major_locator(LinearLocator(10))\n",
    "ax.zaxis.set_major_formatter(FormatStrFormatter('%.02f'))\n",
    "\n",
    "fig.colorbar(surf, shrink=0.5, aspect=5)\n",
    "\n",
    "plt.show()"
   ]
  },
  {
   "cell_type": "markdown",
   "metadata": {},
   "source": [
    "So we've got a nice ridge that runs diagonally right where we'd expect. (It goes from 250-500 because it's all the even numbers from -500 to 500 mapped onto the integers from 1-500.)\n",
    "\n",
    "Let's take a little closer look at this, and see how the means, modes, and medians of the simulated runs compare with the groundtruths for each simulation. \n",
    "\n",
    "First, we'll turn the table on its side, though, so that our rows are the results and the columns are all the groundtruths that produced those results. That way we can more easily work out which (and how many of which) groundtruths produced any given result. \n",
    "\n"
   ]
  },
  {
   "cell_type": "code",
   "execution_count": null,
   "metadata": {
    "collapsed": true
   },
   "outputs": [],
   "source": [
    "betteragg = []\n",
    "for n in range(len(bigagg[0])):\n",
    "    betteragg.append([])\n",
    "    for m in range(len(bigagg)):\n",
    "        betteragg[n].append(int(bigagg[m][n]))"
   ]
  },
  {
   "cell_type": "code",
   "execution_count": null,
   "metadata": {
    "collapsed": true
   },
   "outputs": [],
   "source": [
    "def meanfunc(res):\n",
    "    x = 0\n",
    "    n = res + 500 \n",
    "    for m in range(0,500):\n",
    "        x = x + (m * betteragg[n][m])\n",
    "    return(x/sum(betteragg[n]))\n"
   ]
  },
  {
   "cell_type": "code",
   "execution_count": null,
   "metadata": {
    "collapsed": true
   },
   "outputs": [],
   "source": [
    "def medianfunc(res):  \n",
    "    \n",
    "    rawdistro = []\n",
    "    for n in range(0,len(betteragg[res + 500])):  #for each element in the histogram list\n",
    "        for m in range(0,betteragg[res + 500][n]):     #we want, that element times\n",
    "            rawdistro.append(n)   #to put the index in\n",
    "    return np.median(rawdistro)\n",
    "    "
   ]
  },
  {
   "cell_type": "code",
   "execution_count": null,
   "metadata": {
    "collapsed": true
   },
   "outputs": [],
   "source": [
    "def modefunc(res):\n",
    "    resset = betteragg[(res + 500)]\n",
    "    totaltruths = sum(resset) #This is total number of groundtruths that produced the result we have.\n",
    "    return(resset.index(max(resset)))"
   ]
  },
  {
   "cell_type": "code",
   "execution_count": null,
   "metadata": {
    "collapsed": false
   },
   "outputs": [],
   "source": [
    "x = np.arange(0,500,2)\n",
    "y1 = [meanfunc(n) for n in x]\n",
    "y2 = [modefunc(n) for n in x]\n",
    "y3 = [medianfunc(n) for n in x]\n",
    "\n",
    "plt.plot(x, y1, color='blue')\n",
    "plt.plot(x, y2, color='red')\n",
    "plt.plot(x, y3, color='green');\n"
   ]
  },
  {
   "cell_type": "code",
   "execution_count": null,
   "metadata": {
    "collapsed": false
   },
   "outputs": [],
   "source": [
    "x = np.arange(450,500,2)\n",
    "y1 = [meanfunc(n) for n in x]\n",
    "y2 = [modefunc(n) for n in x]\n",
    "y3 = [medianfunc(n) for n in x]\n",
    "\n",
    "plt.plot(x, y1, color='blue')\n",
    "plt.plot(x, y2, color='red')\n",
    "plt.plot(x, y3, color='green')\n",
    "plt.plot(x, x, color='orange');\n",
    "\n"
   ]
  },
  {
   "cell_type": "code",
   "execution_count": null,
   "metadata": {
    "collapsed": false
   },
   "outputs": [],
   "source": [
    "x = np.arange(0,50,2)\n",
    "y1 = [meanfunc(n) for n in x]\n",
    "y2 = [modefunc(n) for n in x]\n",
    "y3 = [medianfunc(n) for n in x]\n",
    "\n",
    "plt.plot(x, y1, color='blue')\n",
    "plt.plot(x, y2, color='red')\n",
    "plt.plot(x, y3, color='green')\n",
    "plt.plot(x, x, color='orange');"
   ]
  },
  {
   "cell_type": "code",
   "execution_count": null,
   "metadata": {
    "collapsed": false
   },
   "outputs": [],
   "source": [
    "x = np.arange(0,500,2)\n",
    "v = [meanfunc(n) - n for n in x]\n",
    "plt.plot(x, v);"
   ]
  },
  {
   "cell_type": "code",
   "execution_count": null,
   "metadata": {
    "collapsed": false
   },
   "outputs": [],
   "source": [
    "x = np.arange(0,500,2)\n",
    "v = [medianfunc(n) - n for n in x]\n",
    "plt.plot(x, v);"
   ]
  },
  {
   "cell_type": "code",
   "execution_count": null,
   "metadata": {
    "collapsed": false
   },
   "outputs": [],
   "source": [
    "x = np.arange(0,500,2)\n",
    "v = [modefunc(n) - n for n in x]\n",
    "plt.plot(x, v);"
   ]
  },
  {
   "cell_type": "code",
   "execution_count": null,
   "metadata": {
    "collapsed": false
   },
   "outputs": [],
   "source": [
    "#Let's take a 3-dimensional look at what's going on there at the ends of the distribution. \n",
    "from matplotlib import cm\n",
    "from matplotlib.ticker import LinearLocator, FormatStrFormatter\n",
    "\n",
    "fig = plt.figure(figsize=(16,10))\n",
    "ax = fig.gca(projection='3d')\n",
    "x = [n for n in range(900,1000,2)] #Every other row so we don't graph all the zeroes.\n",
    "y = [n for n in range(450,500)]\n",
    "z = []\n",
    "for row in bigagg[450:]:\n",
    "    shortened = []\n",
    "    for n in range(900,1000,2):\n",
    "        shortened.append(row[n])\n",
    "    z.append(shortened)\n",
    "z = [[float(m) for m in n] for n in z]\n",
    "xs = [[m for m in range(len(x))] for n in range(len(y))]\n",
    "ys = [[n for m in range(len(y))] for n in range(len(x))]\n",
    "zs = [[elem for elem in row] for row in z]\n",
    "\n",
    "surf = ax.plot_surface(xs, ys, zs, rstride=1, cstride=1, cmap=cm.coolwarm,\n",
    "                       linewidth=0, antialiased=False)\n",
    "\n",
    "\n",
    "ax.zaxis.set_major_locator(LinearLocator(10))\n",
    "ax.zaxis.set_major_formatter(FormatStrFormatter('%.02f'))\n",
    "\n",
    "fig.colorbar(surf, shrink=0.5, aspect=5)\n",
    "\n",
    "plt.show()"
   ]
  },
  {
   "cell_type": "code",
   "execution_count": null,
   "metadata": {
    "collapsed": false
   },
   "outputs": [],
   "source": [
    "fig = plt.figure(figsize=(16,10))\n",
    "ax = fig.gca(projection='3d')\n",
    "x = [n for n in range(500,600,2)] #Every other row so we don't graph all the zeroes.\n",
    "y = [n for n in range(0,50)]\n",
    "z = []\n",
    "for row in bigagg[0:50]:\n",
    "    shortened = []\n",
    "    for n in range(500,600,2):\n",
    "        shortened.append(row[n])\n",
    "    z.append(shortened)\n",
    "z = [[float(m) for m in n] for n in z]\n",
    "xs = [[m for m in range(len(x))] for n in range(len(y))]\n",
    "ys = [[n for m in range(len(y))] for n in range(len(x))]\n",
    "zs = [[elem for elem in row] for row in z]\n",
    "\n",
    "surf = ax.plot_surface(xs, ys, zs, rstride=1, cstride=1, cmap=cm.coolwarm,\n",
    "                       linewidth=0, antialiased=False)\n",
    "\n",
    "\n",
    "ax.zaxis.set_major_locator(LinearLocator(10))\n",
    "ax.zaxis.set_major_formatter(FormatStrFormatter('%.02f'))\n",
    "\n",
    "fig.colorbar(surf, shrink=0.5, aspect=5)\n",
    "\n",
    "plt.show()"
   ]
  },
  {
   "cell_type": "code",
   "execution_count": null,
   "metadata": {
    "collapsed": false
   },
   "outputs": [],
   "source": []
  },
  {
   "cell_type": "code",
   "execution_count": null,
   "metadata": {
    "collapsed": true
   },
   "outputs": [],
   "source": []
  },
  {
   "cell_type": "markdown",
   "metadata": {},
   "source": [
    "Note that the accuracy of this method drops off at the extremes. This is a known—even intentional—artefact of differentially-private data analysis; when there are only a few cases, the noise gets relatively bigger so you can't find out about a few individual cases. "
   ]
  },
  {
   "cell_type": "markdown",
   "metadata": {},
   "source": [
    "### To Do: build out confidence-interval function. \n"
   ]
  },
  {
   "cell_type": "code",
   "execution_count": null,
   "metadata": {
    "collapsed": true
   },
   "outputs": [],
   "source": [
    "#We'll borrow the unaggregated-data-returning function we built to discover medians:\n",
    "\n",
    "\n",
    "    "
   ]
  },
  {
   "cell_type": "code",
   "execution_count": null,
   "metadata": {
    "collapsed": false
   },
   "outputs": [],
   "source": []
  },
  {
   "cell_type": "code",
   "execution_count": null,
   "metadata": {
    "collapsed": true
   },
   "outputs": [],
   "source": [
    "#Confidence interval\n",
    "def conint(res,conlevel):\n",
    "    runtot = []\n",
    "    for "
   ]
  },
  {
   "cell_type": "code",
   "execution_count": null,
   "metadata": {
    "collapsed": false
   },
   "outputs": [],
   "source": []
  },
  {
   "cell_type": "markdown",
   "metadata": {},
   "source": [
    "# What if my goal is to find the drug dealers? \n",
    "\n",
    "Differential privacy is explicitly _not good_ at this. Differential privacy is explicitly built to make it almost-no-better-than random guessing. That is the point. But, even aside from the fact that differential privacy pushes users to think hard about the statistical significance of their results, it reminds us to think hard about the goals of data gathering, analysis, and release. \n",
    "\n",
    "## Is it data science? Or medicine? Or are you running a data dragnet?\n",
    "\n",
    "Another \"Counting\" example was Google gathering usage data about whether users were proceeding to potentially dangerous sites after receiving a \"don't go to this website\" warning. [Cite: Moritz Hardt post]\n",
    "\n",
    "Difference between gathering data to find out a link between smoking and cancer and finding out that a specific person is a smoker. \n",
    "\n",
    "(Data) Science is about finding generalizable trends. \n",
    "\n",
    "Open data may be used for data science, but it can also be used for finding anecdotes, finding specific anomalies and specific people. [New York taxi data!]\n",
    "\n",
    "Divvy dataset: I was a little horrified, honestly, and I started poking around at it to see literally how many clicks in Excel it would take me to find an individual commuter. But there's a lot of bad user-provided data! Lots of 1912 birthdays, for example. \n",
    "\n",
    "## Build trust, get better data. \n",
    "\n"
   ]
  },
  {
   "cell_type": "code",
   "execution_count": null,
   "metadata": {
    "collapsed": false
   },
   "outputs": [],
   "source": [
    "round(3.5)"
   ]
  },
  {
   "cell_type": "code",
   "execution_count": 88,
   "metadata": {
    "collapsed": true
   },
   "outputs": [],
   "source": [
    "random.sample?"
   ]
  },
  {
   "cell_type": "code",
   "execution_count": null,
   "metadata": {
    "collapsed": true
   },
   "outputs": [],
   "source": []
  },
  {
   "cell_type": "markdown",
   "metadata": {},
   "source": [
    "## Why is this useful? \n",
    "\n",
    "The intuitive reason this is useful is because even if we know who a respondent with a given number is, the survey result we have from that person is, as likely as not, a random answer. More formally—and this is what makes differential privacy \"differential,\" the aggregate survey results are not changed by the inclusion or exclusion of anyone's data. \n",
    "\n",
    "This is vitally important because the way you deanonymize data is to take slices of it based on outside information—you may know a respondent's age, gender, or other research categories that I am interested in. In this particular case, it might be family income, hometown, etc. And you can take narrower and narrower slices of the data until you're left with just my data. \n",
    "\n",
    "With differential privacy implemented, you can gather data and make inferences about the data; we don't have to limit ourselves to counting, but we could find out risk factors for drug dealing among our population—gender, family income...whatever your research object of interest is—and despite the fact that you are gathering a great deal of data, any single person's data is protected by a halo of \"noise.\" "
   ]
  }
 ],
 "metadata": {
  "kernelspec": {
   "display_name": "Python 3",
   "language": "python",
   "name": "python3"
  },
  "language_info": {
   "codemirror_mode": {
    "name": "ipython",
    "version": 3
   },
   "file_extension": ".py",
   "mimetype": "text/x-python",
   "name": "python",
   "nbconvert_exporter": "python",
   "pygments_lexer": "ipython3",
   "version": "3.4.5"
  }
 },
 "nbformat": 4,
 "nbformat_minor": 0
}
